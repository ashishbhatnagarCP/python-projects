{
 "cells": [
  {
   "cell_type": "code",
   "execution_count": 79,
   "id": "2b4c7cbb-47a0-41fc-b4b4-17ed9a2f0c41",
   "metadata": {},
   "outputs": [],
   "source": [
    "import pandas as pd"
   ]
  },
  {
   "cell_type": "code",
   "execution_count": 80,
   "id": "6f793197-cb46-4b53-8198-4b7dfbc74864",
   "metadata": {},
   "outputs": [],
   "source": [
    "df=pd.read_csv('Names.csv',header=None)"
   ]
  },
  {
   "cell_type": "markdown",
   "id": "fc78bb69-56a9-431e-9e74-b54745ec9d8f",
   "metadata": {},
   "source": [
    "## Set columns header"
   ]
  },
  {
   "cell_type": "code",
   "execution_count": 81,
   "id": "d8c223c0-9b20-4485-9fb7-926a926f1145",
   "metadata": {},
   "outputs": [],
   "source": [
    "df.columns=['First','Last','Address','City','State','Area Code','Income']"
   ]
  },
  {
   "cell_type": "code",
   "execution_count": 82,
   "id": "30ab53ad-c2aa-4ed5-b63f-e6d21b1bd2e9",
   "metadata": {},
   "outputs": [
    {
     "name": "stdout",
     "output_type": "stream",
     "text": [
      "          City State\n",
      "0    Riverside    NJ\n",
      "1        Phila    PA\n",
      "2    Riverside    NJ\n",
      "3     SomeTown    SD\n",
      "4     SomeTown    SD\n",
      "5  Desert City    CO\n"
     ]
    }
   ],
   "source": [
    "print(df[['City','State']])"
   ]
  },
  {
   "cell_type": "markdown",
   "id": "7e2a2577-f68f-4be1-8092-459db489d330",
   "metadata": {},
   "source": [
    "## Print Only 0 to 5 columns"
   ]
  },
  {
   "cell_type": "code",
   "execution_count": 83,
   "id": "232f5b93-732a-4cb5-ae04-e7dd0dab3f94",
   "metadata": {},
   "outputs": [
    {
     "name": "stdout",
     "output_type": "stream",
     "text": [
      "        City State\n",
      "0  Riverside    NJ\n",
      "1      Phila    PA\n",
      "2  Riverside    NJ\n",
      "3   SomeTown    SD\n",
      "4   SomeTown    SD\n"
     ]
    }
   ],
   "source": [
    "print(df[['City','State']][0:5])"
   ]
  },
  {
   "cell_type": "markdown",
   "id": "427d6169-eb5b-43a0-a3a3-509263eaa5ac",
   "metadata": {},
   "source": [
    "## Printing whole row"
   ]
  },
  {
   "cell_type": "code",
   "execution_count": 84,
   "id": "56207896-b018-4331-924e-044d336767b8",
   "metadata": {},
   "outputs": [
    {
     "name": "stdout",
     "output_type": "stream",
     "text": [
      "First                Jack\n",
      "Last             McGinnis\n",
      "Address      220 hobo Av.\n",
      "City                Phila\n",
      "State                  PA\n",
      "Area Code            9119\n",
      "Income              18000\n",
      "Name: 1, dtype: object\n"
     ]
    }
   ],
   "source": [
    "print(df.iloc[1])"
   ]
  },
  {
   "cell_type": "markdown",
   "id": "ba5b38ce-fca0-4f92-b1d2-047a48fc8c83",
   "metadata": {},
   "source": [
    "## Print specific row+column value"
   ]
  },
  {
   "cell_type": "code",
   "execution_count": 85,
   "id": "c8007707-3ebf-4e03-9d9f-4df95dcb23e7",
   "metadata": {},
   "outputs": [
    {
     "name": "stdout",
     "output_type": "stream",
     "text": [
      "Repici\n"
     ]
    }
   ],
   "source": [
    "print(df.iloc[2,1])\n",
    "# columns and row both start with index 0 "
   ]
  },
  {
   "cell_type": "markdown",
   "id": "d7db1bb2-a580-4814-bf8f-4877d75af4e5",
   "metadata": {},
   "source": [
    "## Create new dataFrame with required values"
   ]
  },
  {
   "cell_type": "code",
   "execution_count": 86,
   "id": "c20b5ae7-0f4d-49fe-807e-80e8ee848447",
   "metadata": {},
   "outputs": [],
   "source": [
    "wanted_values=df[['First','Last','City']]"
   ]
  },
  {
   "cell_type": "code",
   "execution_count": 87,
   "id": "9aacf1f3-c826-4d29-b059-4ff7f7189933",
   "metadata": {},
   "outputs": [
    {
     "data": {
      "text/html": [
       "<div>\n",
       "<style scoped>\n",
       "    .dataframe tbody tr th:only-of-type {\n",
       "        vertical-align: middle;\n",
       "    }\n",
       "\n",
       "    .dataframe tbody tr th {\n",
       "        vertical-align: top;\n",
       "    }\n",
       "\n",
       "    .dataframe thead th {\n",
       "        text-align: right;\n",
       "    }\n",
       "</style>\n",
       "<table border=\"1\" class=\"dataframe\">\n",
       "  <thead>\n",
       "    <tr style=\"text-align: right;\">\n",
       "      <th></th>\n",
       "      <th>First</th>\n",
       "      <th>Last</th>\n",
       "      <th>City</th>\n",
       "    </tr>\n",
       "  </thead>\n",
       "  <tbody>\n",
       "    <tr>\n",
       "      <th>0</th>\n",
       "      <td>John</td>\n",
       "      <td>Doe</td>\n",
       "      <td>Riverside</td>\n",
       "    </tr>\n",
       "    <tr>\n",
       "      <th>1</th>\n",
       "      <td>Jack</td>\n",
       "      <td>McGinnis</td>\n",
       "      <td>Phila</td>\n",
       "    </tr>\n",
       "    <tr>\n",
       "      <th>2</th>\n",
       "      <td>John \"Da Man\"</td>\n",
       "      <td>Repici</td>\n",
       "      <td>Riverside</td>\n",
       "    </tr>\n",
       "    <tr>\n",
       "      <th>3</th>\n",
       "      <td>Stephen</td>\n",
       "      <td>Tyler</td>\n",
       "      <td>SomeTown</td>\n",
       "    </tr>\n",
       "    <tr>\n",
       "      <th>4</th>\n",
       "      <td>NaN</td>\n",
       "      <td>Blankman</td>\n",
       "      <td>SomeTown</td>\n",
       "    </tr>\n",
       "    <tr>\n",
       "      <th>5</th>\n",
       "      <td>Joan \"Danger\", Anne</td>\n",
       "      <td>Jet</td>\n",
       "      <td>Desert City</td>\n",
       "    </tr>\n",
       "  </tbody>\n",
       "</table>\n",
       "</div>"
      ],
      "text/plain": [
       "                 First      Last         City\n",
       "0                 John       Doe    Riverside\n",
       "1                 Jack  McGinnis        Phila\n",
       "2        John \"Da Man\"    Repici    Riverside\n",
       "3              Stephen     Tyler     SomeTown\n",
       "4                  NaN  Blankman     SomeTown\n",
       "5  Joan \"Danger\", Anne       Jet  Desert City"
      ]
     },
     "execution_count": 87,
     "metadata": {},
     "output_type": "execute_result"
    }
   ],
   "source": [
    "wanted_values"
   ]
  },
  {
   "cell_type": "markdown",
   "id": "ffcf6fb1-c74d-4b13-a414-3eda67769b53",
   "metadata": {},
   "source": [
    "## Save to new Excel"
   ]
  },
  {
   "cell_type": "code",
   "execution_count": 88,
   "id": "0e167af4-e55f-4363-8dbd-62c0dd07f5eb",
   "metadata": {},
   "outputs": [],
   "source": [
    "# from openpyxl.workbook import Workbook"
   ]
  },
  {
   "cell_type": "code",
   "execution_count": 89,
   "id": "f434770e-4aae-4e71-a6d2-e1cf803a44aa",
   "metadata": {},
   "outputs": [],
   "source": [
    "# stored=wanted_values.to_excel('State_Location.xlxs',index=None)"
   ]
  },
  {
   "cell_type": "code",
   "execution_count": 90,
   "id": "da9e56ff-dba7-42d8-865b-1ab7453b7cae",
   "metadata": {},
   "outputs": [
    {
     "data": {
      "text/html": [
       "<div>\n",
       "<style scoped>\n",
       "    .dataframe tbody tr th:only-of-type {\n",
       "        vertical-align: middle;\n",
       "    }\n",
       "\n",
       "    .dataframe tbody tr th {\n",
       "        vertical-align: top;\n",
       "    }\n",
       "\n",
       "    .dataframe thead th {\n",
       "        text-align: right;\n",
       "    }\n",
       "</style>\n",
       "<table border=\"1\" class=\"dataframe\">\n",
       "  <thead>\n",
       "    <tr style=\"text-align: right;\">\n",
       "      <th></th>\n",
       "      <th>First</th>\n",
       "      <th>Last</th>\n",
       "      <th>Address</th>\n",
       "      <th>City</th>\n",
       "      <th>State</th>\n",
       "      <th>Area Code</th>\n",
       "      <th>Income</th>\n",
       "    </tr>\n",
       "  </thead>\n",
       "  <tbody>\n",
       "    <tr>\n",
       "      <th>0</th>\n",
       "      <td>John</td>\n",
       "      <td>Doe</td>\n",
       "      <td>120 jefferson st.</td>\n",
       "      <td>Riverside</td>\n",
       "      <td>NJ</td>\n",
       "      <td>8074</td>\n",
       "      <td>45000</td>\n",
       "    </tr>\n",
       "    <tr>\n",
       "      <th>1</th>\n",
       "      <td>Jack</td>\n",
       "      <td>McGinnis</td>\n",
       "      <td>220 hobo Av.</td>\n",
       "      <td>Phila</td>\n",
       "      <td>PA</td>\n",
       "      <td>9119</td>\n",
       "      <td>18000</td>\n",
       "    </tr>\n",
       "    <tr>\n",
       "      <th>2</th>\n",
       "      <td>John \"Da Man\"</td>\n",
       "      <td>Repici</td>\n",
       "      <td>120 Jefferson St.</td>\n",
       "      <td>Riverside</td>\n",
       "      <td>NJ</td>\n",
       "      <td>8075</td>\n",
       "      <td>120000</td>\n",
       "    </tr>\n",
       "    <tr>\n",
       "      <th>3</th>\n",
       "      <td>Stephen</td>\n",
       "      <td>Tyler</td>\n",
       "      <td>7452 Terrace \"At the Plaza\" road</td>\n",
       "      <td>SomeTown</td>\n",
       "      <td>SD</td>\n",
       "      <td>91234</td>\n",
       "      <td>90000</td>\n",
       "    </tr>\n",
       "    <tr>\n",
       "      <th>4</th>\n",
       "      <td>NaN</td>\n",
       "      <td>Blankman</td>\n",
       "      <td>NaN</td>\n",
       "      <td>SomeTown</td>\n",
       "      <td>SD</td>\n",
       "      <td>298</td>\n",
       "      <td>30000</td>\n",
       "    </tr>\n",
       "    <tr>\n",
       "      <th>5</th>\n",
       "      <td>Joan \"Danger\", Anne</td>\n",
       "      <td>Jet</td>\n",
       "      <td>9th, at Terrace plc</td>\n",
       "      <td>Desert City</td>\n",
       "      <td>CO</td>\n",
       "      <td>123</td>\n",
       "      <td>68000</td>\n",
       "    </tr>\n",
       "  </tbody>\n",
       "</table>\n",
       "</div>"
      ],
      "text/plain": [
       "                 First      Last                           Address  \\\n",
       "0                 John       Doe                 120 jefferson st.   \n",
       "1                 Jack  McGinnis                      220 hobo Av.   \n",
       "2        John \"Da Man\"    Repici                 120 Jefferson St.   \n",
       "3              Stephen     Tyler  7452 Terrace \"At the Plaza\" road   \n",
       "4                  NaN  Blankman                               NaN   \n",
       "5  Joan \"Danger\", Anne       Jet               9th, at Terrace plc   \n",
       "\n",
       "          City State  Area Code  Income  \n",
       "0    Riverside    NJ       8074   45000  \n",
       "1        Phila    PA       9119   18000  \n",
       "2    Riverside    NJ       8075  120000  \n",
       "3     SomeTown    SD      91234   90000  \n",
       "4     SomeTown    SD        298   30000  \n",
       "5  Desert City    CO        123   68000  "
      ]
     },
     "execution_count": 90,
     "metadata": {},
     "output_type": "execute_result"
    }
   ],
   "source": [
    "df"
   ]
  },
  {
   "cell_type": "markdown",
   "id": "977d7e50-b836-4309-86ae-09f29f85cd3e",
   "metadata": {},
   "source": [
    "## Get all people living at Riverside"
   ]
  },
  {
   "cell_type": "code",
   "execution_count": 91,
   "id": "b2b1521a-8ccd-4cf2-bd73-7886dbbfc2ba",
   "metadata": {},
   "outputs": [
    {
     "name": "stdout",
     "output_type": "stream",
     "text": [
      "  First Last            Address       City State  Area Code  Income\n",
      "0  John  Doe  120 jefferson st.  Riverside    NJ       8074   45000\n"
     ]
    }
   ],
   "source": [
    "print( df.loc[  (df['City']=='Riverside') & (df['First']=='John')   ] )"
   ]
  },
  {
   "cell_type": "markdown",
   "id": "a95b1fc3-bf36-49e0-b7d7-eec2aa630084",
   "metadata": {},
   "source": [
    "## Adding tax column"
   ]
  },
  {
   "cell_type": "code",
   "execution_count": 92,
   "id": "ce76e948-5064-41de-af5f-2edb6fce766d",
   "metadata": {},
   "outputs": [],
   "source": [
    "df['Tax % ']=df['Income'].apply(lambda x: .15 if 10000 < x < 40000 else .2 if 40000 < x < 80000 else .25)"
   ]
  },
  {
   "cell_type": "code",
   "execution_count": 93,
   "id": "9eef523a-d6d9-41fa-bada-2c5f5d96594f",
   "metadata": {},
   "outputs": [],
   "source": [
    "df['Taxes Owned']= df['Income'] * df['Tax % ']"
   ]
  },
  {
   "cell_type": "code",
   "execution_count": 94,
   "id": "37ef508c-51e8-4fef-bb43-03f2c00b3485",
   "metadata": {},
   "outputs": [
    {
     "name": "stdout",
     "output_type": "stream",
     "text": [
      "0     9000.0\n",
      "1     2700.0\n",
      "2    30000.0\n",
      "3    22500.0\n",
      "4     4500.0\n",
      "5    13600.0\n",
      "Name: Taxes Owned, dtype: float64\n"
     ]
    }
   ],
   "source": [
    "print(df['Taxes Owned'])"
   ]
  },
  {
   "cell_type": "markdown",
   "id": "f3a341c0-623e-4711-982a-037a42c32ab2",
   "metadata": {},
   "source": [
    "## Dropping columns"
   ]
  },
  {
   "cell_type": "code",
   "execution_count": 95,
   "id": "37db1787-587f-4db4-b2d3-790ed619b44c",
   "metadata": {},
   "outputs": [],
   "source": [
    "to_drop=['First','Address','Area Code']"
   ]
  },
  {
   "cell_type": "code",
   "execution_count": 96,
   "id": "01cd329b-0e53-47cd-8ba9-1bb09d0debcb",
   "metadata": {},
   "outputs": [],
   "source": [
    "df.drop(columns=to_drop,inplace=True)"
   ]
  },
  {
   "cell_type": "code",
   "execution_count": 97,
   "id": "4f3e55f6-dd07-417a-b5d0-539e40c92e27",
   "metadata": {},
   "outputs": [
    {
     "name": "stdout",
     "output_type": "stream",
     "text": [
      "       Last         City State  Income  Tax %   Taxes Owned\n",
      "0       Doe    Riverside    NJ   45000    0.20       9000.0\n",
      "1  McGinnis        Phila    PA   18000    0.15       2700.0\n",
      "2    Repici    Riverside    NJ  120000    0.25      30000.0\n",
      "3     Tyler     SomeTown    SD   90000    0.25      22500.0\n",
      "4  Blankman     SomeTown    SD   30000    0.15       4500.0\n",
      "5       Jet  Desert City    CO   68000    0.20      13600.0\n"
     ]
    }
   ],
   "source": [
    "print(df)"
   ]
  },
  {
   "cell_type": "markdown",
   "id": "8e0d27ca-cf32-4b45-9428-a7e81ae47de1",
   "metadata": {},
   "source": [
    "## Update value of new column based on condition on another columns"
   ]
  },
  {
   "cell_type": "code",
   "execution_count": 98,
   "id": "53799262-84d4-40eb-9624-a6a58aef11c9",
   "metadata": {},
   "outputs": [
    {
     "name": "stdout",
     "output_type": "stream",
     "text": [
      "       Last         City State  Income  Tax %   Taxes Owned  Test Col\n",
      "0       Doe    Riverside    NJ   45000    0.20       9000.0      True\n",
      "1  McGinnis        Phila    PA   18000    0.15       2700.0      True\n",
      "2    Repici    Riverside    NJ  120000    0.25      30000.0     False\n",
      "3     Tyler     SomeTown    SD   90000    0.25      22500.0     False\n",
      "4  Blankman     SomeTown    SD   30000    0.15       4500.0      True\n",
      "5       Jet  Desert City    CO   68000    0.20      13600.0     False\n"
     ]
    }
   ],
   "source": [
    "df['Test Col']=False\n",
    "df.loc[df['Income']<60000,'Test Col']=True\n",
    "print(df)"
   ]
  },
  {
   "cell_type": "markdown",
   "id": "a79e3521-4981-417b-8536-6709d5e5fa61",
   "metadata": {},
   "source": [
    "## GroupBy and Sort"
   ]
  },
  {
   "cell_type": "code",
   "execution_count": 131,
   "id": "71b41793-bf91-4ecb-9d7d-6e50c2905f7e",
   "metadata": {},
   "outputs": [
    {
     "ename": "KeyError",
     "evalue": "'Test Col'",
     "output_type": "error",
     "traceback": [
      "\u001b[1;31m---------------------------------------------------------------------------\u001b[0m",
      "\u001b[1;31mKeyError\u001b[0m                                  Traceback (most recent call last)",
      "Cell \u001b[1;32mIn [131], line 1\u001b[0m\n\u001b[1;32m----> 1\u001b[0m \u001b[38;5;28mprint\u001b[39m(\u001b[43mdf\u001b[49m\u001b[38;5;241;43m.\u001b[39;49m\u001b[43mgroupby\u001b[49m\u001b[43m(\u001b[49m\u001b[43m[\u001b[49m\u001b[38;5;124;43m'\u001b[39;49m\u001b[38;5;124;43mTest Col\u001b[39;49m\u001b[38;5;124;43m'\u001b[39;49m\u001b[43m]\u001b[49m\u001b[43m)\u001b[49m\u001b[38;5;241m.\u001b[39mmean()\u001b[38;5;241m.\u001b[39msort_values(\u001b[38;5;124m'\u001b[39m\u001b[38;5;124mIncome\u001b[39m\u001b[38;5;124m'\u001b[39m))\n",
      "File \u001b[1;32m~\\AppData\\Local\\Programs\\Python\\Python39\\lib\\site-packages\\pandas\\core\\frame.py:7721\u001b[0m, in \u001b[0;36mDataFrame.groupby\u001b[1;34m(self, by, axis, level, as_index, sort, group_keys, squeeze, observed, dropna)\u001b[0m\n\u001b[0;32m   7716\u001b[0m axis \u001b[38;5;241m=\u001b[39m \u001b[38;5;28mself\u001b[39m\u001b[38;5;241m.\u001b[39m_get_axis_number(axis)\n\u001b[0;32m   7718\u001b[0m \u001b[38;5;66;03m# https://github.com/python/mypy/issues/7642\u001b[39;00m\n\u001b[0;32m   7719\u001b[0m \u001b[38;5;66;03m# error: Argument \"squeeze\" to \"DataFrameGroupBy\" has incompatible type\u001b[39;00m\n\u001b[0;32m   7720\u001b[0m \u001b[38;5;66;03m# \"Union[bool, NoDefault]\"; expected \"bool\"\u001b[39;00m\n\u001b[1;32m-> 7721\u001b[0m \u001b[38;5;28;01mreturn\u001b[39;00m \u001b[43mDataFrameGroupBy\u001b[49m\u001b[43m(\u001b[49m\n\u001b[0;32m   7722\u001b[0m \u001b[43m    \u001b[49m\u001b[43mobj\u001b[49m\u001b[38;5;241;43m=\u001b[39;49m\u001b[38;5;28;43mself\u001b[39;49m\u001b[43m,\u001b[49m\n\u001b[0;32m   7723\u001b[0m \u001b[43m    \u001b[49m\u001b[43mkeys\u001b[49m\u001b[38;5;241;43m=\u001b[39;49m\u001b[43mby\u001b[49m\u001b[43m,\u001b[49m\n\u001b[0;32m   7724\u001b[0m \u001b[43m    \u001b[49m\u001b[43maxis\u001b[49m\u001b[38;5;241;43m=\u001b[39;49m\u001b[43maxis\u001b[49m\u001b[43m,\u001b[49m\n\u001b[0;32m   7725\u001b[0m \u001b[43m    \u001b[49m\u001b[43mlevel\u001b[49m\u001b[38;5;241;43m=\u001b[39;49m\u001b[43mlevel\u001b[49m\u001b[43m,\u001b[49m\n\u001b[0;32m   7726\u001b[0m \u001b[43m    \u001b[49m\u001b[43mas_index\u001b[49m\u001b[38;5;241;43m=\u001b[39;49m\u001b[43mas_index\u001b[49m\u001b[43m,\u001b[49m\n\u001b[0;32m   7727\u001b[0m \u001b[43m    \u001b[49m\u001b[43msort\u001b[49m\u001b[38;5;241;43m=\u001b[39;49m\u001b[43msort\u001b[49m\u001b[43m,\u001b[49m\n\u001b[0;32m   7728\u001b[0m \u001b[43m    \u001b[49m\u001b[43mgroup_keys\u001b[49m\u001b[38;5;241;43m=\u001b[39;49m\u001b[43mgroup_keys\u001b[49m\u001b[43m,\u001b[49m\n\u001b[0;32m   7729\u001b[0m \u001b[43m    \u001b[49m\u001b[43msqueeze\u001b[49m\u001b[38;5;241;43m=\u001b[39;49m\u001b[43msqueeze\u001b[49m\u001b[43m,\u001b[49m\u001b[43m  \u001b[49m\u001b[38;5;66;43;03m# type: ignore[arg-type]\u001b[39;49;00m\n\u001b[0;32m   7730\u001b[0m \u001b[43m    \u001b[49m\u001b[43mobserved\u001b[49m\u001b[38;5;241;43m=\u001b[39;49m\u001b[43mobserved\u001b[49m\u001b[43m,\u001b[49m\n\u001b[0;32m   7731\u001b[0m \u001b[43m    \u001b[49m\u001b[43mdropna\u001b[49m\u001b[38;5;241;43m=\u001b[39;49m\u001b[43mdropna\u001b[49m\u001b[43m,\u001b[49m\n\u001b[0;32m   7732\u001b[0m \u001b[43m\u001b[49m\u001b[43m)\u001b[49m\n",
      "File \u001b[1;32m~\\AppData\\Local\\Programs\\Python\\Python39\\lib\\site-packages\\pandas\\core\\groupby\\groupby.py:882\u001b[0m, in \u001b[0;36mGroupBy.__init__\u001b[1;34m(self, obj, keys, axis, level, grouper, exclusions, selection, as_index, sort, group_keys, squeeze, observed, mutated, dropna)\u001b[0m\n\u001b[0;32m    879\u001b[0m \u001b[38;5;28;01mif\u001b[39;00m grouper \u001b[38;5;129;01mis\u001b[39;00m \u001b[38;5;28;01mNone\u001b[39;00m:\n\u001b[0;32m    880\u001b[0m     \u001b[38;5;28;01mfrom\u001b[39;00m \u001b[38;5;21;01mpandas\u001b[39;00m\u001b[38;5;21;01m.\u001b[39;00m\u001b[38;5;21;01mcore\u001b[39;00m\u001b[38;5;21;01m.\u001b[39;00m\u001b[38;5;21;01mgroupby\u001b[39;00m\u001b[38;5;21;01m.\u001b[39;00m\u001b[38;5;21;01mgrouper\u001b[39;00m \u001b[38;5;28;01mimport\u001b[39;00m get_grouper\n\u001b[1;32m--> 882\u001b[0m     grouper, exclusions, obj \u001b[38;5;241m=\u001b[39m \u001b[43mget_grouper\u001b[49m\u001b[43m(\u001b[49m\n\u001b[0;32m    883\u001b[0m \u001b[43m        \u001b[49m\u001b[43mobj\u001b[49m\u001b[43m,\u001b[49m\n\u001b[0;32m    884\u001b[0m \u001b[43m        \u001b[49m\u001b[43mkeys\u001b[49m\u001b[43m,\u001b[49m\n\u001b[0;32m    885\u001b[0m \u001b[43m        \u001b[49m\u001b[43maxis\u001b[49m\u001b[38;5;241;43m=\u001b[39;49m\u001b[43maxis\u001b[49m\u001b[43m,\u001b[49m\n\u001b[0;32m    886\u001b[0m \u001b[43m        \u001b[49m\u001b[43mlevel\u001b[49m\u001b[38;5;241;43m=\u001b[39;49m\u001b[43mlevel\u001b[49m\u001b[43m,\u001b[49m\n\u001b[0;32m    887\u001b[0m \u001b[43m        \u001b[49m\u001b[43msort\u001b[49m\u001b[38;5;241;43m=\u001b[39;49m\u001b[43msort\u001b[49m\u001b[43m,\u001b[49m\n\u001b[0;32m    888\u001b[0m \u001b[43m        \u001b[49m\u001b[43mobserved\u001b[49m\u001b[38;5;241;43m=\u001b[39;49m\u001b[43mobserved\u001b[49m\u001b[43m,\u001b[49m\n\u001b[0;32m    889\u001b[0m \u001b[43m        \u001b[49m\u001b[43mmutated\u001b[49m\u001b[38;5;241;43m=\u001b[39;49m\u001b[38;5;28;43mself\u001b[39;49m\u001b[38;5;241;43m.\u001b[39;49m\u001b[43mmutated\u001b[49m\u001b[43m,\u001b[49m\n\u001b[0;32m    890\u001b[0m \u001b[43m        \u001b[49m\u001b[43mdropna\u001b[49m\u001b[38;5;241;43m=\u001b[39;49m\u001b[38;5;28;43mself\u001b[39;49m\u001b[38;5;241;43m.\u001b[39;49m\u001b[43mdropna\u001b[49m\u001b[43m,\u001b[49m\n\u001b[0;32m    891\u001b[0m \u001b[43m    \u001b[49m\u001b[43m)\u001b[49m\n\u001b[0;32m    893\u001b[0m \u001b[38;5;28mself\u001b[39m\u001b[38;5;241m.\u001b[39mobj \u001b[38;5;241m=\u001b[39m obj\n\u001b[0;32m    894\u001b[0m \u001b[38;5;28mself\u001b[39m\u001b[38;5;241m.\u001b[39maxis \u001b[38;5;241m=\u001b[39m obj\u001b[38;5;241m.\u001b[39m_get_axis_number(axis)\n",
      "File \u001b[1;32m~\\AppData\\Local\\Programs\\Python\\Python39\\lib\\site-packages\\pandas\\core\\groupby\\grouper.py:882\u001b[0m, in \u001b[0;36mget_grouper\u001b[1;34m(obj, key, axis, level, sort, observed, mutated, validate, dropna)\u001b[0m\n\u001b[0;32m    880\u001b[0m         in_axis, level, gpr \u001b[38;5;241m=\u001b[39m \u001b[38;5;28;01mFalse\u001b[39;00m, gpr, \u001b[38;5;28;01mNone\u001b[39;00m\n\u001b[0;32m    881\u001b[0m     \u001b[38;5;28;01melse\u001b[39;00m:\n\u001b[1;32m--> 882\u001b[0m         \u001b[38;5;28;01mraise\u001b[39;00m \u001b[38;5;167;01mKeyError\u001b[39;00m(gpr)\n\u001b[0;32m    883\u001b[0m \u001b[38;5;28;01melif\u001b[39;00m \u001b[38;5;28misinstance\u001b[39m(gpr, Grouper) \u001b[38;5;129;01mand\u001b[39;00m gpr\u001b[38;5;241m.\u001b[39mkey \u001b[38;5;129;01mis\u001b[39;00m \u001b[38;5;129;01mnot\u001b[39;00m \u001b[38;5;28;01mNone\u001b[39;00m:\n\u001b[0;32m    884\u001b[0m     \u001b[38;5;66;03m# Add key to exclusions\u001b[39;00m\n\u001b[0;32m    885\u001b[0m     exclusions\u001b[38;5;241m.\u001b[39madd(gpr\u001b[38;5;241m.\u001b[39mkey)\n",
      "\u001b[1;31mKeyError\u001b[0m: 'Test Col'"
     ]
    }
   ],
   "source": [
    "print(df.groupby(['Test Col']).mean().sort_values('Income'))"
   ]
  },
  {
   "cell_type": "markdown",
   "id": "10c03002-0a04-4df8-b3f2-3ed724a3762a",
   "metadata": {},
   "source": [
    "##  "
   ]
  },
  {
   "cell_type": "code",
   "execution_count": 132,
   "id": "eacfd789-5fa3-4e24-9d97-82c395b50576",
   "metadata": {},
   "outputs": [],
   "source": [
    "import numpy as np"
   ]
  },
  {
   "cell_type": "code",
   "execution_count": 133,
   "id": "2cee317a-83b8-4019-8127-e04777e9dc5b",
   "metadata": {},
   "outputs": [],
   "source": [
    "df=pd.read_csv('Names.csv',header=None)\n",
    "df.columns=['First','Last','Address','City','State','Area Code','Income']"
   ]
  },
  {
   "cell_type": "code",
   "execution_count": 134,
   "id": "4f5ade03-3109-4d99-a054-27b5f8b79d4d",
   "metadata": {},
   "outputs": [],
   "source": [
    "df.drop(columns='Address',inplace=True)"
   ]
  },
  {
   "cell_type": "code",
   "execution_count": 135,
   "id": "9b62278b-3bb4-4ac2-a610-6d8076a6f2e7",
   "metadata": {},
   "outputs": [],
   "source": [
    "df.set_index('Area Code',inplace=True)"
   ]
  },
  {
   "cell_type": "code",
   "execution_count": 136,
   "id": "39d61ef7-0327-4691-9943-7bc0af0f3578",
   "metadata": {},
   "outputs": [
    {
     "name": "stdout",
     "output_type": "stream",
     "text": [
      "First          John\n",
      "Last            Doe\n",
      "City      Riverside\n",
      "State            NJ\n",
      "Income        45000\n",
      "Name: 8074, dtype: object\n"
     ]
    }
   ],
   "source": [
    "print(df.loc[8074])"
   ]
  },
  {
   "cell_type": "code",
   "execution_count": 137,
   "id": "084cc972-1b1d-48c5-9406-eac618060e50",
   "metadata": {},
   "outputs": [
    {
     "name": "stdout",
     "output_type": "stream",
     "text": [
      "First          John\n",
      "Last            Doe\n",
      "City      Riverside\n",
      "State            NJ\n",
      "Income        45000\n",
      "Name: 8074, dtype: object\n"
     ]
    }
   ],
   "source": [
    "print(df.iloc[0])"
   ]
  },
  {
   "cell_type": "code",
   "execution_count": 138,
   "id": "46d47bf7-f95b-44bd-b278-e7e61f3d3fab",
   "metadata": {},
   "outputs": [
    {
     "name": "stdout",
     "output_type": "stream",
     "text": [
      "Area Code\n",
      "8074                    John\n",
      "9119                    Jack\n",
      "8075           John \"Da Man\"\n",
      "91234                Stephen\n",
      "298                      NaN\n",
      "123      Joan \"Danger\", Anne\n",
      "Name: First, dtype: object\n"
     ]
    }
   ],
   "source": [
    "print(df.loc[8074:,'First'])"
   ]
  },
  {
   "cell_type": "code",
   "execution_count": 139,
   "id": "f3a973de-b3ed-4295-b72e-dbf69742fc04",
   "metadata": {},
   "outputs": [
    {
     "name": "stdout",
     "output_type": "stream",
     "text": [
      "Area Code\n",
      "8074                    John\n",
      "9119                    Jack\n",
      "8075           John \"Da Man\"\n",
      "91234                Stephen\n",
      "298                      NaN\n",
      "123      Joan \"Danger\", Anne\n",
      "Name: First, dtype: object\n"
     ]
    }
   ],
   "source": [
    "print(df.loc[8074:,'First'])"
   ]
  },
  {
   "cell_type": "code",
   "execution_count": 144,
   "id": "055b64d9-c5c2-47aa-bc8e-8e1492a66ec9",
   "metadata": {},
   "outputs": [
    {
     "data": {
      "text/html": [
       "<div>\n",
       "<style scoped>\n",
       "    .dataframe tbody tr th:only-of-type {\n",
       "        vertical-align: middle;\n",
       "    }\n",
       "\n",
       "    .dataframe tbody tr th {\n",
       "        vertical-align: top;\n",
       "    }\n",
       "\n",
       "    .dataframe thead th {\n",
       "        text-align: right;\n",
       "    }\n",
       "</style>\n",
       "<table border=\"1\" class=\"dataframe\">\n",
       "  <thead>\n",
       "    <tr style=\"text-align: right;\">\n",
       "      <th></th>\n",
       "      <th>0</th>\n",
       "      <th>1</th>\n",
       "      <th>2</th>\n",
       "    </tr>\n",
       "    <tr>\n",
       "      <th>Area Code</th>\n",
       "      <th></th>\n",
       "      <th></th>\n",
       "      <th></th>\n",
       "    </tr>\n",
       "  </thead>\n",
       "  <tbody>\n",
       "    <tr>\n",
       "      <th>8074</th>\n",
       "      <td>John</td>\n",
       "      <td>None</td>\n",
       "      <td>None</td>\n",
       "    </tr>\n",
       "    <tr>\n",
       "      <th>9119</th>\n",
       "      <td>Jack</td>\n",
       "      <td>None</td>\n",
       "      <td>None</td>\n",
       "    </tr>\n",
       "    <tr>\n",
       "      <th>8075</th>\n",
       "      <td>John</td>\n",
       "      <td>\"Da</td>\n",
       "      <td>Man\"</td>\n",
       "    </tr>\n",
       "    <tr>\n",
       "      <th>91234</th>\n",
       "      <td>Stephen</td>\n",
       "      <td>None</td>\n",
       "      <td>None</td>\n",
       "    </tr>\n",
       "    <tr>\n",
       "      <th>298</th>\n",
       "      <td>NaN</td>\n",
       "      <td>NaN</td>\n",
       "      <td>NaN</td>\n",
       "    </tr>\n",
       "    <tr>\n",
       "      <th>123</th>\n",
       "      <td>Joan</td>\n",
       "      <td>\"Danger\",</td>\n",
       "      <td>Anne</td>\n",
       "    </tr>\n",
       "  </tbody>\n",
       "</table>\n",
       "</div>"
      ],
      "text/plain": [
       "                 0          1     2\n",
       "Area Code                          \n",
       "8074          John       None  None\n",
       "9119          Jack       None  None\n",
       "8075          John        \"Da  Man\"\n",
       "91234      Stephen       None  None\n",
       "298            NaN        NaN   NaN\n",
       "123           Joan  \"Danger\",  Anne"
      ]
     },
     "execution_count": 144,
     "metadata": {},
     "output_type": "execute_result"
    }
   ],
   "source": [
    "df.First.str.split(expand=True)"
   ]
  },
  {
   "cell_type": "code",
   "execution_count": 127,
   "id": "27f8c0d0-3254-4af4-90c0-6b2a4ee6cb9f",
   "metadata": {},
   "outputs": [
    {
     "name": "stdout",
     "output_type": "stream",
     "text": [
      "                 0          1     2\n",
      "Area Code                          \n",
      "8074          John       None  None\n",
      "9119          Jack       None  None\n",
      "8075          John        \"Da  Man\"\n",
      "91234      Stephen       None  None\n",
      "298            NaN        NaN   NaN\n",
      "123           Joan  \"Danger\",  Anne\n"
     ]
    }
   ],
   "source": []
  },
  {
   "cell_type": "code",
   "execution_count": null,
   "id": "9fb2848d-0c1b-46be-822d-7275977022b8",
   "metadata": {},
   "outputs": [],
   "source": []
  }
 ],
 "metadata": {
  "kernelspec": {
   "display_name": "Python 3 (ipykernel)",
   "language": "python",
   "name": "python3"
  },
  "language_info": {
   "codemirror_mode": {
    "name": "ipython",
    "version": 3
   },
   "file_extension": ".py",
   "mimetype": "text/x-python",
   "name": "python",
   "nbconvert_exporter": "python",
   "pygments_lexer": "ipython3",
   "version": "3.9.13"
  }
 },
 "nbformat": 4,
 "nbformat_minor": 5
}
